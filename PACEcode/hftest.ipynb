{
 "cells": [
  {
   "cell_type": "markdown",
   "metadata": {},
   "source": [
    "# Testing h5"
   ]
  },
  {
   "cell_type": "code",
   "execution_count": 78,
   "metadata": {},
   "outputs": [],
   "source": [
    "import matplotlib\n",
    "matplotlib.use('Agg') \n",
    "import matplotlib.cm as cm\n",
    "from mpl_toolkits.mplot3d import Axes3D\n",
    "import mpl_toolkits.mplot3d.axes3d as p3\n",
    "import matplotlib.pyplot as plt\n",
    "\n",
    "import numpy as np\n",
    "import csv\n",
    "import sys\n",
    "import os\n",
    "import time\n",
    "import math\n",
    "import json\n",
    "from glob import glob\n",
    "from sklearn import linear_model\n",
    "\n",
    "import scipy\n",
    "\n",
    "import itertools\n",
    "import multiprocessing\n",
    "\n",
    "try: import cPickle as pickle\n",
    "except: import pickle\n",
    "import matplotlib.pyplot as plt\n",
    "#from subsampling import subsampling_system,random_subsampling,subsampling_system_with_PCA\n",
    "import h5py\n",
    "import pandas as pd\n",
    "\n"
   ]
  },
  {
   "cell_type": "code",
   "execution_count": 8,
   "metadata": {},
   "outputs": [
    {
     "name": "stdout",
     "output_type": "stream",
     "text": [
      "Data saved in h5\n"
     ]
    }
   ],
   "source": [
    "\n",
    "pred_fname = \"predictions_submodel_{}.h5\".format(submodel_no)\n",
    "hf = h5py.File(pred_fname, 'r')\n",
    "\n",
    "#     hf.create_dataset('density', data=np.asarray(dens))\n",
    "#     hf.create_dataset('y', data=np.asarray(y))\n",
    "#     hf.create_dataset('LDA_predict_y', data=LDA_predict_y)\n",
    "#     hf.create_dataset('NN_predict_y', data=NN_predict_y)\n",
    "#     hf.create_dataset('predict_y', data=predict_y)\n",
    "#     hf.create_dataset('error', data=error)\n",
    "hf.close()\n",
    "print(\"Data saved in h5\")"
   ]
  },
  {
   "cell_type": "code",
   "execution_count": 13,
   "metadata": {},
   "outputs": [],
   "source": [
    "d = hf.get('density')"
   ]
  },
  {
   "cell_type": "code",
   "execution_count": 15,
   "metadata": {},
   "outputs": [
    {
     "data": {
      "text/plain": [
       "array([[ 0.00132723],\n",
       "       [ 0.00039351],\n",
       "       [ 0.00017064],\n",
       "       ..., \n",
       "       [ 0.15837706],\n",
       "       [ 0.11231074],\n",
       "       [ 0.06326698]])"
      ]
     },
     "execution_count": 15,
     "metadata": {},
     "output_type": "execute_result"
    }
   ],
   "source": [
    "np.array(d)"
   ]
  },
  {
   "cell_type": "code",
   "execution_count": 81,
   "metadata": {},
   "outputs": [],
   "source": [
    "a = d"
   ]
  },
  {
   "cell_type": "code",
   "execution_count": 87,
   "metadata": {},
   "outputs": [],
   "source": [
    "a = np.append(a,d,1)"
   ]
  },
  {
   "cell_type": "code",
   "execution_count": 88,
   "metadata": {},
   "outputs": [
    {
     "data": {
      "text/plain": [
       "(983569, 4)"
      ]
     },
     "execution_count": 88,
     "metadata": {},
     "output_type": "execute_result"
    }
   ],
   "source": [
    "a.shape"
   ]
  },
  {
   "cell_type": "code",
   "execution_count": null,
   "metadata": {},
   "outputs": [],
   "source": []
  }
 ],
 "metadata": {
  "kernelspec": {
   "display_name": "Python 3",
   "language": "python",
   "name": "python3"
  },
  "language_info": {
   "codemirror_mode": {
    "name": "ipython",
    "version": 3
   },
   "file_extension": ".py",
   "mimetype": "text/x-python",
   "name": "python",
   "nbconvert_exporter": "python",
   "pygments_lexer": "ipython3",
   "version": "3.6.1"
  }
 },
 "nbformat": 4,
 "nbformat_minor": 2
}
